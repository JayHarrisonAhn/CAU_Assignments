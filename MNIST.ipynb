{
 "cells": [
  {
   "cell_type": "markdown",
   "metadata": {},
   "source": [
    "## Import"
   ]
  },
  {
   "cell_type": "code",
   "execution_count": 1,
   "metadata": {
    "id": "VtRXN22PZkTh"
   },
   "outputs": [],
   "source": [
    "from torch.utils.data import DataLoader\n",
    "from torchvision import transforms, datasets\n",
    "import numpy as np\n",
    "from sklearn import svm\n",
    "from sklearn.metrics import accuracy_score\n",
    "from sklearn.tree import DecisionTreeClassifier\n",
    "from scipy.stats import randint\n",
    "from sklearn.model_selection import GridSearchCV"
   ]
  },
  {
   "cell_type": "markdown",
   "metadata": {},
   "source": [
    "## Download Resources"
   ]
  },
  {
   "cell_type": "code",
   "execution_count": 2,
   "metadata": {
    "colab": {
     "base_uri": "https://localhost:8080/"
    },
    "id": "4uLbEEwrbc2N",
    "outputId": "d0b4077e-4d86-4c6b-9df0-2eb714c9f623"
   },
   "outputs": [],
   "source": [
    "# MNIST\n",
    "mnist_train_transform = transforms.Compose ([transforms.ToTensor()])\n",
    "mnist_test_transform = transforms.Compose([transforms.ToTensor()])\n",
    "\n",
    "trainset_mnist = datasets.MNIST(root = './data', train = True, download = True, transform = mnist_train_transform)\n",
    "testset_mnist = datasets.MNIST(root = './data', train = False, download = True, transform = mnist_test_transform)\n",
    "\n",
    "MNIST_train = DataLoader(trainset_mnist, batch_size=32, shuffle=True, num_workers = 2)\n",
    "MNIST_test = DataLoader(testset_mnist, batch_size=32, shuffle=False, num_workers=2)\n",
    "\n",
    "MNIST_train_images = []\n",
    "MNIST_train_labels = []\n",
    "for batch in MNIST_train:\n",
    "  images, labels = batch\n",
    "  images_flat = images.view(images.shape[0], -1)\n",
    "  MNIST_train_images.append(images_flat.numpy())\n",
    "  MNIST_train_labels.append(labels.numpy())\n",
    "MNIST_train_images = np.vstack(MNIST_train_images)\n",
    "MNIST_train_labels = np.concatenate(MNIST_train_labels)\n",
    "\n",
    "MNIST_test_images = []\n",
    "MNIST_test_labels = []\n",
    "for batch in MNIST_test:\n",
    "  images, labels = batch\n",
    "  images_flat = images.view(images.shape[0],-1)\n",
    "  MNIST_test_images.append(images_flat.numpy())\n",
    "  MNIST_test_labels.append(labels.numpy())\n",
    "MNIST_test_images = np.vstack(MNIST_test_images)\n",
    "MNIST_test_labels = np.concatenate(MNIST_test_labels)"
   ]
  },
  {
   "cell_type": "markdown",
   "metadata": {},
   "source": [
    "## Decision Tree Test"
   ]
  },
  {
   "cell_type": "code",
   "execution_count": null,
   "metadata": {
    "colab": {
     "background_save": true
    },
    "id": "wQki7w0Dd08l",
    "outputId": "4e8facec-e3ff-4a76-e0bd-9b9fe8421306",
    "scrolled": true
   },
   "outputs": [],
   "source": [
    "model = DecisionTreeClassifier(max_depth=12)\n",
    "model.fit(MNIST_train_images, MNIST_train_labels)\n",
    "score = model.score(MNIST_test_images, MNIST_test_labels)\n",
    "print(\"Model %d score : %f\\nParameters : %s\" % (model.max_depth, score, model.get_params()))"
   ]
  },
  {
   "cell_type": "markdown",
   "metadata": {},
   "source": [
    "## Decision Tree Assignment"
   ]
  },
  {
   "cell_type": "code",
   "execution_count": null,
   "metadata": {},
   "outputs": [],
   "source": [
    "from sklearn.model_selection import GridSearchCV\n",
    "from sklearn.model_selection import cross_validate\n",
    "import pandas as pd\n",
    "params_grid = {\n",
    "  'min_samples_split': [2, 5, 10],\n",
    "  'min_samples_leaf': [1, 2, 4], \n",
    "  'max_leaf_nodes': [5, 10, None]\n",
    "}\n",
    "\n",
    "grid_searchs=[]\n",
    "result=[]\n",
    "for depth in [3,6,9,12]:\n",
    "    model = DecisionTreeClassifier(max_depth=depth)\n",
    "    grid_search = GridSearchCV(model, param_grid=params_grid, cv=5)\n",
    "    grid_search.fit(MNIST_train_images, MNIST_train_labels)\n",
    "    \n",
    "    accuracy_training = grid_search.score(MNIST_train_images, MNIST_train_labels)\n",
    "    accuracy_test = grid_search.score(MNIST_test_images, MNIST_test_labels)\n",
    "    result.append([depth, accuracy_training, accuracy_test])\n",
    "    grid_searchs.append(grid_search)\n",
    "    print('depth %f best score : %f' % grid_search.best_score_)\n",
    "\n",
    "pd.DataFrame(result, columns=[\"Depth\", \"Accuracy\\n(Training Set)\", \"Accuracy\\n(Test Set)\"])"
   ]
  },
  {
   "cell_type": "markdown",
   "metadata": {},
   "source": [
    "## SVM Test"
   ]
  },
  {
   "cell_type": "code",
   "execution_count": null,
   "metadata": {},
   "outputs": [],
   "source": []
  },
  {
   "cell_type": "markdown",
   "metadata": {},
   "source": [
    "## SVM Assignment"
   ]
  },
  {
   "cell_type": "code",
   "execution_count": null,
   "metadata": {},
   "outputs": [],
   "source": []
  }
 ],
 "metadata": {
  "accelerator": "GPU",
  "colab": {
   "provenance": []
  },
  "gpuClass": "standard",
  "kernelspec": {
   "display_name": "Python 3 (ipykernel)",
   "language": "python",
   "name": "python3"
  },
  "language_info": {
   "codemirror_mode": {
    "name": "ipython",
    "version": 3
   },
   "file_extension": ".py",
   "mimetype": "text/x-python",
   "name": "python",
   "nbconvert_exporter": "python",
   "pygments_lexer": "ipython3",
   "version": "3.10.10"
  }
 },
 "nbformat": 4,
 "nbformat_minor": 1
}
