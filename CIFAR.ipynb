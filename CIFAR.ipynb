{
 "cells": [
  {
   "cell_type": "markdown",
   "metadata": {},
   "source": [
    "## Anaconda Env Setting"
   ]
  },
  {
   "cell_type": "markdown",
   "metadata": {},
   "source": [
    "```\n",
    "conda create -n some_env_name\n",
    "conda install python=3.10 numpy pytorch torchvision pandas scikit-learn jupyter notebook\n",
    "```"
   ]
  },
  {
   "cell_type": "code",
   "execution_count": 1,
   "metadata": {
    "id": "VtRXN22PZkTh"
   },
   "outputs": [],
   "source": [
    "from torch.utils.data import DataLoader\n",
    "from torchvision import transforms, datasets\n",
    "import numpy as np\n",
    "from sklearn import svm\n",
    "from sklearn.metrics import accuracy_score\n",
    "from sklearn.tree import DecisionTreeClassifier\n",
    "from scipy.stats import randint\n",
    "from sklearn.model_selection import GridSearchCV\n",
    "import pandas as pd"
   ]
  },
  {
   "cell_type": "markdown",
   "metadata": {},
   "source": [
    "## Download Resources"
   ]
  },
  {
   "cell_type": "code",
   "execution_count": 2,
   "metadata": {
    "colab": {
     "base_uri": "https://localhost:8080/"
    },
    "id": "4uLbEEwrbc2N",
    "outputId": "d0b4077e-4d86-4c6b-9df0-2eb714c9f623",
    "scrolled": true
   },
   "outputs": [
    {
     "name": "stdout",
     "output_type": "stream",
     "text": [
      "Files already downloaded and verified\n",
      "Files already downloaded and verified\n"
     ]
    }
   ],
   "source": [
    "# CIFAR-10\n",
    "CIFAR_transform_train = transforms.Compose([transforms.ToTensor()])\n",
    "CIFAR_transform_test =transforms.Compose([transforms.ToTensor()])\n",
    "\n",
    "trainset_CIFAR = datasets.CIFAR10(root='./data', train=True, download=True, transform= CIFAR_transform_train)\n",
    "testset_CIFAR = datasets.CIFAR10(root='./data', train=False, download=True, transform=CIFAR_transform_test)\n",
    "CIFAR_train = DataLoader(trainset_CIFAR, batch_size=32, shuffle=True, num_workers=2)\n",
    "CIFAR_test = DataLoader(testset_CIFAR, batch_size=32, shuffle=False, num_workers=2)\n",
    "CIFAR_train_images = []\n",
    "CIFAR_train_labels = []\n",
    "for batch in CIFAR_train:\n",
    "  images, labels = batch\n",
    "  images_flat = images.view(images.shape[0], -1)\n",
    "  CIFAR_train_images.append(images_flat.numpy())\n",
    "  CIFAR_train_labels.append(labels.numpy())\n",
    "CIFAR_train_images = np.vstack(CIFAR_train_images)\n",
    "CIFAR_train_labels = np.concatenate(CIFAR_train_labels)\n",
    "\n",
    "CIFAR_test_images = []\n",
    "CIFAR_test_labels = []\n",
    "for batch in CIFAR_test:\n",
    "  images, labels = batch\n",
    "  images_flat = images.view(images.shape[0], -1)\n",
    "  CIFAR_test_images.append(images_flat.numpy())\n",
    "  CIFAR_test_labels.append(labels.numpy())\n",
    "CIFAR_test_images = np.vstack(CIFAR_test_images)\n",
    "CIFAR_test_labels = np.concatenate(CIFAR_test_labels)\n",
    "\n",
    "models = {}"
   ]
  },
  {
   "cell_type": "markdown",
   "metadata": {},
   "source": [
    "## Decision Tree Test"
   ]
  },
  {
   "cell_type": "code",
   "execution_count": 3,
   "metadata": {},
   "outputs": [
    {
     "name": "stdout",
     "output_type": "stream",
     "text": [
      "Model 3 score : 0.239400\n",
      "Parameters : {'ccp_alpha': 0.0, 'class_weight': None, 'criterion': 'gini', 'max_depth': 3, 'max_features': None, 'max_leaf_nodes': None, 'min_impurity_decrease': 0.0, 'min_samples_leaf': 1, 'min_samples_split': 2, 'min_weight_fraction_leaf': 0.0, 'random_state': None, 'splitter': 'best'}\n"
     ]
    }
   ],
   "source": [
    "model = DecisionTreeClassifier(max_depth=3)\n",
    "model.fit(CIFAR_train_images, CIFAR_train_labels)\n",
    "score = model.score(CIFAR_test_images, CIFAR_test_labels)\n",
    "print(\"Model %d score : %f\\nParameters : %s\" % (model.max_depth, score, model.get_params()))"
   ]
  },
  {
   "cell_type": "markdown",
   "metadata": {},
   "source": [
    "## Decision Tree Assignment"
   ]
  },
  {
   "cell_type": "code",
   "execution_count": 4,
   "metadata": {},
   "outputs": [
    {
     "name": "stdout",
     "output_type": "stream",
     "text": [
      "depth 3 best score : 0.233920\n",
      "depth 6 best score : 0.273720\n",
      "depth 9 best score : 0.296140\n",
      "depth 12 best score : 0.291520\n"
     ]
    },
    {
     "data": {
      "text/html": [
       "<div>\n",
       "<style scoped>\n",
       "    .dataframe tbody tr th:only-of-type {\n",
       "        vertical-align: middle;\n",
       "    }\n",
       "\n",
       "    .dataframe tbody tr th {\n",
       "        vertical-align: top;\n",
       "    }\n",
       "\n",
       "    .dataframe thead th {\n",
       "        text-align: right;\n",
       "    }\n",
       "</style>\n",
       "<table border=\"1\" class=\"dataframe\">\n",
       "  <thead>\n",
       "    <tr style=\"text-align: right;\">\n",
       "      <th></th>\n",
       "      <th>Depth</th>\n",
       "      <th>Accuracy(Training Set)</th>\n",
       "      <th>Accuracy(Test Set)</th>\n",
       "    </tr>\n",
       "  </thead>\n",
       "  <tbody>\n",
       "    <tr>\n",
       "      <th>0</th>\n",
       "      <td>3</td>\n",
       "      <td>0.23762</td>\n",
       "      <td>0.2394</td>\n",
       "    </tr>\n",
       "    <tr>\n",
       "      <th>1</th>\n",
       "      <td>6</td>\n",
       "      <td>0.29588</td>\n",
       "      <td>0.2812</td>\n",
       "    </tr>\n",
       "    <tr>\n",
       "      <th>2</th>\n",
       "      <td>9</td>\n",
       "      <td>0.38212</td>\n",
       "      <td>0.3041</td>\n",
       "    </tr>\n",
       "    <tr>\n",
       "      <th>3</th>\n",
       "      <td>12</td>\n",
       "      <td>0.51876</td>\n",
       "      <td>0.3035</td>\n",
       "    </tr>\n",
       "  </tbody>\n",
       "</table>\n",
       "</div>"
      ],
      "text/plain": [
       "   Depth  Accuracy(Training Set)  Accuracy(Test Set)\n",
       "0      3                 0.23762              0.2394\n",
       "1      6                 0.29588              0.2812\n",
       "2      9                 0.38212              0.3041\n",
       "3     12                 0.51876              0.3035"
      ]
     },
     "execution_count": 4,
     "metadata": {},
     "output_type": "execute_result"
    }
   ],
   "source": [
    "from sklearn.model_selection import cross_validate\n",
    "params_grid = {\n",
    "  'min_samples_split': [2, 5, 10],\n",
    "  'min_samples_leaf': [1, 2, 4], \n",
    "  'max_leaf_nodes': [5, 10, None]\n",
    "}\n",
    "\n",
    "grid_searchs=[]\n",
    "result=[]\n",
    "for depth in [3,6,9,12]:\n",
    "    model = DecisionTreeClassifier(max_depth=depth)\n",
    "    grid_search = GridSearchCV(model, param_grid=params_grid, cv=5)\n",
    "    grid_search.fit(CIFAR_train_images, CIFAR_train_labels)\n",
    "    \n",
    "    accuracy_training = grid_search.score(CIFAR_train_images, CIFAR_train_labels)\n",
    "    accuracy_test = grid_search.score(CIFAR_test_images, CIFAR_test_labels)\n",
    "    result.append([depth, accuracy_training, accuracy_test])\n",
    "    grid_searchs.append(grid_search)\n",
    "    print('depth %d best score : %f' % (depth, grid_search.best_score_))\n",
    "\n",
    "pd.DataFrame(result, columns=[\"Depth\", \"Accuracy(Training Set)\", \"Accuracy(Test Set)\"])"
   ]
  },
  {
   "cell_type": "markdown",
   "metadata": {},
   "source": [
    "## SVM Test"
   ]
  },
  {
   "cell_type": "code",
   "execution_count": null,
   "metadata": {},
   "outputs": [],
   "source": []
  },
  {
   "cell_type": "markdown",
   "metadata": {},
   "source": [
    "## SVM Assignment"
   ]
  },
  {
   "cell_type": "code",
   "execution_count": null,
   "metadata": {},
   "outputs": [],
   "source": []
  }
 ],
 "metadata": {
  "accelerator": "GPU",
  "colab": {
   "provenance": []
  },
  "gpuClass": "standard",
  "kernelspec": {
   "display_name": "Python 3 (ipykernel)",
   "language": "python",
   "name": "python3"
  },
  "language_info": {
   "codemirror_mode": {
    "name": "ipython",
    "version": 3
   },
   "file_extension": ".py",
   "mimetype": "text/x-python",
   "name": "python",
   "nbconvert_exporter": "python",
   "pygments_lexer": "ipython3",
   "version": "3.10.10"
  }
 },
 "nbformat": 4,
 "nbformat_minor": 1
}
