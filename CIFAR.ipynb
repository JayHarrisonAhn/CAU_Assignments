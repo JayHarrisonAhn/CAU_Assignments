{
 "cells": [
  {
   "cell_type": "markdown",
   "metadata": {},
   "source": [
    "## Anaconda Env Setting"
   ]
  },
  {
   "cell_type": "code",
   "execution_count": null,
   "metadata": {},
   "outputs": [],
   "source": [
    "conda create -n some_env_name\n",
    "conda install python=3.10 numpy pytorch torchvision pandas scikit-learn jupyter notebook"
   ]
  },
  {
   "cell_type": "code",
   "execution_count": null,
   "metadata": {
    "id": "VtRXN22PZkTh"
   },
   "outputs": [],
   "source": [
    "from torch.utils.data import DataLoader\n",
    "from torchvision import transforms, datasets\n",
    "import numpy as np\n",
    "from sklearn import svm\n",
    "from sklearn.metrics import accuracy_score\n",
    "from sklearn.tree import DecisionTreeClassifier\n",
    "from scipy.stats import randint\n",
    "from sklearn.model_selection import GridSearchCV\n",
    "import pandas as pd"
   ]
  },
  {
   "cell_type": "markdown",
   "metadata": {},
   "source": [
    "## Download Resources"
   ]
  },
  {
   "cell_type": "code",
   "execution_count": null,
   "metadata": {
    "colab": {
     "base_uri": "https://localhost:8080/"
    },
    "id": "4uLbEEwrbc2N",
    "outputId": "d0b4077e-4d86-4c6b-9df0-2eb714c9f623",
    "scrolled": true
   },
   "outputs": [],
   "source": [
    "# CIFAR-10\n",
    "CIFAR_transform_train = transforms.Compose([transforms.ToTensor()])\n",
    "CIFAR_transform_test =transforms.Compose([transforms.ToTensor()])\n",
    "\n",
    "trainset_CIFAR = datasets.CIFAR10(root='./data', train=True, download=True, transform= CIFAR_transform_train)\n",
    "testset_CIFAR = datasets.CIFAR10(root='./data', train=False, download=True, transform=CIFAR_transform_test)\n",
    "CIFAR_train = DataLoader(trainset_CIFAR, batch_size=32, shuffle=True, num_workers=2)\n",
    "CIFAR_test = DataLoader(testset_CIFAR, batch_size=32, shuffle=False, num_workers=2)\n",
    "CIFAR_train_images = []\n",
    "CIFAR_train_labels = []\n",
    "for batch in CIFAR_train:\n",
    "  images, labels = batch\n",
    "  images_flat = images.view(images.shape[0], -1)\n",
    "  CIFAR_train_images.append(images_flat.numpy())\n",
    "  CIFAR_train_labels.append(labels.numpy())\n",
    "CIFAR_train_images = np.vstack(CIFAR_train_images)\n",
    "CIFAR_train_labels = np.concatenate(CIFAR_train_labels)\n",
    "\n",
    "CIFAR_test_images = []\n",
    "CIFAR_test_labels = []\n",
    "for batch in CIFAR_test:\n",
    "  images, labels = batch\n",
    "  images_flat = images.view(images.shape[0], -1)\n",
    "  CIFAR_test_images.append(images_flat.numpy())\n",
    "  CIFAR_test_labels.append(labels.numpy())\n",
    "CIFAR_test_images = np.vstack(CIFAR_test_images)\n",
    "CIFAR_test_labels = np.concatenate(CIFAR_test_labels)\n",
    "\n",
    "models = {}"
   ]
  },
  {
   "cell_type": "markdown",
   "metadata": {},
   "source": [
    "## Decision Tree Test"
   ]
  },
  {
   "cell_type": "code",
   "execution_count": null,
   "metadata": {},
   "outputs": [],
   "source": [
    "model = DecisionTreeClassifier(max_depth=3)\n",
    "model.fit(CIFAR_train_images, CIFAR_train_labels)\n",
    "score = model.score(CIFAR_test_images, CIFAR_test_labels)\n",
    "print(\"Model %d score : %f\\nParameters : %s\" % (model.max_depth, score, model.get_params()))"
   ]
  },
  {
   "cell_type": "markdown",
   "metadata": {},
   "source": [
    "## Decision Tree Assignment"
   ]
  },
  {
   "cell_type": "code",
   "execution_count": null,
   "metadata": {},
   "outputs": [],
   "source": [
    "from sklearn.model_selection import cross_validate\n",
    "params_grid = {\n",
    "  'min_samples_split': [2, 5, 10],\n",
    "  'min_samples_leaf': [1, 2, 4], \n",
    "  'max_leaf_nodes': [5, 10, None]\n",
    "}\n",
    "\n",
    "grid_searchs=[]\n",
    "result=[]\n",
    "for depth in [3,6,9,12]:\n",
    "    model = DecisionTreeClassifier(max_depth=depth)\n",
    "    grid_search = GridSearchCV(model, param_grid=params_grid, cv=5)\n",
    "    grid_search.fit(CIFAR_train_images, CIFAR_train_labels)\n",
    "    \n",
    "    accuracy_training = grid_search.score(CIFAR_train_images, CIFAR_train_labels)\n",
    "    accuracy_test = grid_search.score(CIFAR_test_images, CIFAR_test_labels)\n",
    "    result.append([depth, accuracy_training, accuracy_test])\n",
    "    grid_searchs.append(grid_search)\n",
    "    print('depth %d best score : %f' % (depth, grid_search.best_score_))\n",
    "\n",
    "pd.DataFrame(result, columns=[\"Depth\", \"Accuracy(Training Set)\", \"Accuracy(Test Set)\"])"
   ]
  },
  {
   "cell_type": "markdown",
   "metadata": {},
   "source": [
    "## SVM Test"
   ]
  },
  {
   "cell_type": "code",
   "execution_count": null,
   "metadata": {},
   "outputs": [],
   "source": []
  },
  {
   "cell_type": "markdown",
   "metadata": {},
   "source": [
    "## SVM Assignment"
   ]
  },
  {
   "cell_type": "code",
   "execution_count": null,
   "metadata": {},
   "outputs": [],
   "source": []
  }
 ],
 "metadata": {
  "accelerator": "GPU",
  "colab": {
   "provenance": []
  },
  "gpuClass": "standard",
  "kernelspec": {
   "display_name": "Python 3 (ipykernel)",
   "language": "python",
   "name": "python3"
  },
  "language_info": {
   "codemirror_mode": {
    "name": "ipython",
    "version": 3
   },
   "file_extension": ".py",
   "mimetype": "text/x-python",
   "name": "python",
   "nbconvert_exporter": "python",
   "pygments_lexer": "ipython3",
   "version": "3.10.10"
  }
 },
 "nbformat": 4,
 "nbformat_minor": 1
}
